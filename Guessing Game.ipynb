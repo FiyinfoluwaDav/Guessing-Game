{
 "cells": [
  {
   "cell_type": "markdown",
   "metadata": {},
   "source": [
    "## Word Raider Game"
   ]
  },
  {
   "cell_type": "markdown",
   "metadata": {},
   "source": [
    "##### Importing random and getting the words from the words.txt file"
   ]
  },
  {
   "cell_type": "code",
   "execution_count": null,
   "metadata": {},
   "outputs": [],
   "source": [
    "import random\n",
    "game_title = \"Word Raider\"\n",
    "words_bank_list=[]\n",
    "with open(\"words.txt\",\"r\") as file:\n",
    "    for line in file:\n",
    "        words_bank_list.append(line.rstrip().lower())\n",
    "print(words_bank_list)\n",
    "    "
   ]
  },
  {
   "cell_type": "markdown",
   "metadata": {},
   "source": [
    "##### Picking a random word"
   ]
  },
  {
   "cell_type": "code",
   "execution_count": null,
   "metadata": {},
   "outputs": [],
   "source": [
    "random_word = random.choice(words_bank_list)\n"
   ]
  },
  {
   "cell_type": "markdown",
   "metadata": {},
   "source": [
    "#### Defining The Game Variable"
   ]
  },
  {
   "cell_type": "code",
   "execution_count": null,
   "metadata": {},
   "outputs": [],
   "source": [
    "game_name = \"Word Raider\"\n",
    "incorrect_guesses=[]\n",
    "misplaced_letters=[]\n",
    "max_turns=5\n",
    "turns_taken=0"
   ]
  },
  {
   "cell_type": "markdown",
   "metadata": {},
   "source": [
    "#### Welcoming The Player"
   ]
  },
  {
   "cell_type": "code",
   "execution_count": null,
   "metadata": {},
   "outputs": [],
   "source": [
    "print(f\"Welcome to {game_name}\")\n",
    "print(\"There are\", len(random_word), \"letters in the word you are to guess.\")\n",
    "print(\"You have\", max_turns - turns_taken, \"number of turns left\")\n",
    "\n",
    "while turns_taken < max_turns:\n",
    "    guess = input(\"Input your guess: \")\n",
    "    \n",
    "    if len(guess) != len(random_word) or not guess.isalpha():\n",
    "        print(\"Enter a 5-lettered word\")\n",
    "        continue\n",
    "        \n",
    "    index = 0\n",
    "    for i in guess:\n",
    "        if i == random_word[index]:  # Check correct position\n",
    "            print(i, end=\" \")\n",
    "            if i in misplaced_letters:\n",
    "                misplaced_letters.remove(i)\n",
    "                \n",
    "        elif i in random_word:  # Check if the letter exists but in the wrong position\n",
    "            if i not in misplaced_letters:\n",
    "                misplaced_letters.append(i)\n",
    "            print(\"_\", end=\" \")\n",
    "            \n",
    "        else:  # Letter is not in the word\n",
    "            if i not in incorrect_guesses:\n",
    "                incorrect_guesses.append(i)\n",
    "        index += 1\n",
    "        \n",
    "    print(\"\\n\")\n",
    "    print(\"Misplaced Letters:\", misplaced_letters)\n",
    "    print(\"Incorrect Guesses:\", incorrect_guesses)\n",
    "    \n",
    "    turns_taken += 1\n",
    "    if guess == random_word:\n",
    "        print(\"Congratulations! You won!\")\n",
    "        break\n",
    "    elif max_turns == turns_taken:\n",
    "        print(\"You lost! Try again, the word was\", random_word)\n",
    "        break\n",
    "\n",
    "    print(\"You have\", max_turns - turns_taken, \"turns left\")\n"
   ]
  },
  {
   "cell_type": "code",
   "execution_count": null,
   "metadata": {},
   "outputs": [],
   "source": []
  }
 ],
 "metadata": {
  "kernelspec": {
   "display_name": "Python 3 (ipykernel)",
   "language": "python",
   "name": "python3"
  },
  "language_info": {
   "codemirror_mode": {
    "name": "ipython",
    "version": 3
   },
   "file_extension": ".py",
   "mimetype": "text/x-python",
   "name": "python",
   "nbconvert_exporter": "python",
   "pygments_lexer": "ipython3",
   "version": "3.10.6"
  }
 },
 "nbformat": 4,
 "nbformat_minor": 4
}
